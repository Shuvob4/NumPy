{
 "cells": [
  {
   "cell_type": "markdown",
   "metadata": {},
   "source": [
    "### Numpy"
   ]
  },
  {
   "cell_type": "markdown",
   "metadata": {},
   "source": [
    "Numpy is findamental package for all scientific computing in python.\n",
    "  - Multi Dimensional array\n",
    "      - 1-D (shape(x,)) x= row (axis 0)\n",
    "      - 2-D (shape(x,y)) x = row (axis 0), y = column (axis 1)\n",
    "      - 3-D (shape (x,y,z)) x = axis 0, y = axis 1, z = axis 3\n",
    "\n",
    "Why use NumPy over List ?\n",
    "    NumPy is faster than List.\n",
    "How Faster?\n",
    "    - Numpy uses fixed type\n",
    "    - faster to read as it consumes less bytes of memory\n",
    "    - no type checking when iterating through objects\n",
    "    - uses contiguous memory\n",
    "        - can use SIMD (Single Instruction Multiple Data) vector processing\n",
    "        - Effective Cache Utilization    "
   ]
  },
  {
   "cell_type": "markdown",
   "metadata": {},
   "source": [
    "### Importing package"
   ]
  },
  {
   "cell_type": "code",
   "execution_count": 1,
   "metadata": {},
   "outputs": [],
   "source": [
    "import numpy as np "
   ]
  },
  {
   "cell_type": "markdown",
   "metadata": {},
   "source": [
    "### Basics ( Creating array, shape, size, data types)"
   ]
  },
  {
   "cell_type": "code",
   "execution_count": 11,
   "metadata": {},
   "outputs": [
    {
     "name": "stdout",
     "output_type": "stream",
     "text": [
      "[1 2 3]\n",
      "[[1 2 3]\n",
      " [4 5 6]]\n"
     ]
    }
   ],
   "source": [
    "# Creating arrays\n",
    "array_one = np.array([1,2,3])\n",
    "print(array_one)\n",
    "\n",
    "print(\"------------\")\n",
    "\n",
    "array_two = np.array([[1,2,3],[4,5,6]])\n",
    "print(array_two)"
   ]
  },
  {
   "cell_type": "code",
   "execution_count": 4,
   "metadata": {},
   "outputs": [
    {
     "data": {
      "text/plain": [
       "2"
      ]
     },
     "execution_count": 4,
     "metadata": {},
     "output_type": "execute_result"
    }
   ],
   "source": [
    "#Getting Dimensions of our array\n",
    "array_two.ndim"
   ]
  },
  {
   "cell_type": "code",
   "execution_count": 5,
   "metadata": {},
   "outputs": [
    {
     "data": {
      "text/plain": [
       "(2, 3)"
      ]
     },
     "execution_count": 5,
     "metadata": {},
     "output_type": "execute_result"
    }
   ],
   "source": [
    "#Getting shape\n",
    "array_two.shape"
   ]
  },
  {
   "cell_type": "markdown",
   "metadata": {},
   "source": [
    "### Memory and Datatype of NumPy"
   ]
  },
  {
   "cell_type": "markdown",
   "metadata": {},
   "source": [
    "To check how much memory numpy uses \n",
    "    - \"array_two.dtpe\" - int32\n",
    "NumPy uses int32 by default but we can change it to lower memory if we know how much memory will need"
   ]
  },
  {
   "cell_type": "code",
   "execution_count": 12,
   "metadata": {},
   "outputs": [
    {
     "data": {
      "text/plain": [
       "dtype('int32')"
      ]
     },
     "execution_count": 12,
     "metadata": {},
     "output_type": "execute_result"
    }
   ],
   "source": [
    "#Get Type\n",
    "array_one.dtype"
   ]
  },
  {
   "cell_type": "markdown",
   "metadata": {},
   "source": [
    "We can specify data type when we creat an array"
   ]
  },
  {
   "cell_type": "code",
   "execution_count": 13,
   "metadata": {},
   "outputs": [
    {
     "data": {
      "text/plain": [
       "dtype('int16')"
      ]
     },
     "execution_count": 13,
     "metadata": {},
     "output_type": "execute_result"
    }
   ],
   "source": [
    "array_one = np.array([1,2,3], dtype='int16')\n",
    "array_one.dtype"
   ]
  },
  {
   "cell_type": "code",
   "execution_count": 16,
   "metadata": {},
   "outputs": [
    {
     "data": {
      "text/plain": [
       "2"
      ]
     },
     "execution_count": 16,
     "metadata": {},
     "output_type": "execute_result"
    }
   ],
   "source": [
    "#Get Single Element Size of array\n",
    "# For int16, size will be 2\n",
    "# for int32, size will be 4\n",
    "array_one.itemsize"
   ]
  },
  {
   "cell_type": "code",
   "execution_count": 21,
   "metadata": {},
   "outputs": [
    {
     "data": {
      "text/plain": [
       "3"
      ]
     },
     "execution_count": 21,
     "metadata": {},
     "output_type": "execute_result"
    }
   ],
   "source": [
    "# Get Total element of array\n",
    "array_one.size"
   ]
  },
  {
   "cell_type": "code",
   "execution_count": 20,
   "metadata": {},
   "outputs": [
    {
     "data": {
      "text/plain": [
       "6"
      ]
     },
     "execution_count": 20,
     "metadata": {},
     "output_type": "execute_result"
    }
   ],
   "source": [
    "# Get total size of the array\n",
    "array_one.nbytes"
   ]
  },
  {
   "cell_type": "markdown",
   "metadata": {},
   "source": [
    "### Accessing/Changing Specific Elements, Rows, Columns, etc (slicing)"
   ]
  },
  {
   "cell_type": "code",
   "execution_count": 27,
   "metadata": {},
   "outputs": [
    {
     "data": {
      "text/plain": [
       "6"
      ]
     },
     "execution_count": 27,
     "metadata": {},
     "output_type": "execute_result"
    }
   ],
   "source": [
    "# Get Specific element of an array [row index, column index]\n",
    "# indexing always start at 0\n",
    "array_two[1,2]"
   ]
  },
  {
   "cell_type": "code",
   "execution_count": 28,
   "metadata": {},
   "outputs": [
    {
     "data": {
      "text/plain": [
       "array([1, 2, 3])"
      ]
     },
     "execution_count": 28,
     "metadata": {},
     "output_type": "execute_result"
    }
   ],
   "source": [
    "# Get Specific Row\n",
    "array_two[0, :]"
   ]
  },
  {
   "cell_type": "code",
   "execution_count": 29,
   "metadata": {},
   "outputs": [
    {
     "data": {
      "text/plain": [
       "array([2, 5])"
      ]
     },
     "execution_count": 29,
     "metadata": {},
     "output_type": "execute_result"
    }
   ],
   "source": [
    "# Get Specific Column\n",
    "array_two[:, 1]"
   ]
  },
  {
   "cell_type": "code",
   "execution_count": 30,
   "metadata": {},
   "outputs": [
    {
     "data": {
      "text/plain": [
       "array([2, 4, 6])"
      ]
     },
     "execution_count": 30,
     "metadata": {},
     "output_type": "execute_result"
    }
   ],
   "source": [
    "array_three = np.array([[1,2,3,4,5,6,7],[8,9,10,11,12,13,14]])\n",
    "# Getting specific elements from a row [row number, column start index: column end index(exclusive): stepsize]\n",
    "array_three[0,1:6:2]"
   ]
  },
  {
   "cell_type": "code",
   "execution_count": 43,
   "metadata": {},
   "outputs": [
    {
     "name": "stdout",
     "output_type": "stream",
     "text": [
      "[[ 1  2  3 22  5  6  7]\n",
      " [ 8  9 10 55 44 13 14]]\n",
      "------------\n",
      "[[ 1  2  3 22  5  6  7]\n",
      " [ 8  9 10 55 44 13 14]]\n"
     ]
    }
   ],
   "source": [
    "# Change a specific index value\n",
    "array_three[1,4] = 44\n",
    "print(array_three)\n",
    "\n",
    "print(\"------------\")\n",
    "\n",
    "#Change value of an entire column\n",
    "# If we want same number\n",
    "array_three[:,3] = 99 \n",
    "# If we want different number\n",
    "array_three[:,3] = [22,55]\n",
    "\n",
    "print(array_three)"
   ]
  },
  {
   "cell_type": "markdown",
   "metadata": {},
   "source": [
    "### 3D Example"
   ]
  },
  {
   "cell_type": "code",
   "execution_count": 34,
   "metadata": {},
   "outputs": [
    {
     "name": "stdout",
     "output_type": "stream",
     "text": [
      "[[[1 2]\n",
      "  [3 4]]\n",
      "\n",
      " [[5 6]\n",
      "  [7 8]]]\n"
     ]
    }
   ],
   "source": [
    "array_four = np.array([[[1,2],[3,4]],[[5,6],[7,8]]])\n",
    "print(array_four)"
   ]
  },
  {
   "cell_type": "markdown",
   "metadata": {},
   "source": [
    "To get specific element from this array we need to pass the dimension correctly (Outside in Method)\n",
    "    - array_four[array_no,row_index,column_index]"
   ]
  },
  {
   "cell_type": "code",
   "execution_count": 36,
   "metadata": {},
   "outputs": [
    {
     "data": {
      "text/plain": [
       "2"
      ]
     },
     "execution_count": 36,
     "metadata": {},
     "output_type": "execute_result"
    }
   ],
   "source": [
    "array_four[0,0,1]"
   ]
  },
  {
   "cell_type": "code",
   "execution_count": 42,
   "metadata": {},
   "outputs": [
    {
     "name": "stdout",
     "output_type": "stream",
     "text": [
      "[[[ 1  2]\n",
      "  [12 55]]\n",
      "\n",
      " [[ 5  6]\n",
      "  [45 56]]]\n",
      "------------\n",
      "[[[ 1  2]\n",
      "  [12 23]]\n",
      "\n",
      " [[ 5  6]\n",
      "  [45 56]]]\n"
     ]
    }
   ],
   "source": [
    "# to replace we need to give the sub sequence of same dimension\n",
    "array_four[0,1,1] = 55\n",
    "print(array_four)\n",
    "\n",
    "print(\"------------\")\n",
    "\n",
    "array_four[:,1,:] = [[12,23],[45,56]] \n",
    "print(array_four)"
   ]
  },
  {
   "cell_type": "code",
   "execution_count": null,
   "metadata": {},
   "outputs": [],
   "source": []
  }
 ],
 "metadata": {
  "kernelspec": {
   "display_name": "Python 3",
   "language": "python",
   "name": "python3"
  },
  "language_info": {
   "codemirror_mode": {
    "name": "ipython",
    "version": 3
   },
   "file_extension": ".py",
   "mimetype": "text/x-python",
   "name": "python",
   "nbconvert_exporter": "python",
   "pygments_lexer": "ipython3",
   "version": "3.7.4"
  }
 },
 "nbformat": 4,
 "nbformat_minor": 2
}
